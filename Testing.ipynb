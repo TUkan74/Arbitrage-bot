{
 "cells": [
  {
   "cell_type": "code",
   "execution_count": 1,
   "id": "5ed16c6a-d9dc-45d9-8b93-7213b0eb41d4",
   "metadata": {},
   "outputs": [
    {
     "name": "stdout",
     "output_type": "stream",
     "text": [
      "              id                     name              country      \\\n",
      "2                     gdax        Coinbase Exchange  United States   \n",
      "24                  tapbit                   Tapbit  United States   \n",
      "7                   kraken                   Kraken  United States   \n",
      "8                   gemini                   Gemini  United States   \n",
      "92                  fmcpay                   FMCPAY  United States   \n",
      "68                   itbit                    itBit  United States   \n",
      "11              binance_us               Binance US  United States   \n",
      "137  oku-trade-bob-network  Oku Trade (BOB Network)  United States   \n",
      "138                 metalx                  Metal X  United States   \n",
      "154               coinzoom                 Coinzoom  United States   \n",
      "159               coinlist                 Coinlist  United States   \n",
      "160        oku-trade-taiko        Oku Trade (Taiko)  United States   \n",
      "\n",
      "     trade_volume_24h_btc  \n",
      "2         36124.0708       \n",
      "24        15381.4510       \n",
      "7          8871.2002       \n",
      "8          1484.3792       \n",
      "92         1024.8209       \n",
      "68          261.7291       \n",
      "11          102.8364       \n",
      "137          34.0131       \n",
      "138          33.3561       \n",
      "154           5.6544       \n",
      "159           1.0125       \n",
      "160           0.3639       \n"
     ]
    }
   ],
   "source": [
    "import pandas as pd\n",
    "import requests as rq\n",
    "import json\n",
    "import numpy as np\n",
    "import warnings\n",
    "import pytz\n",
    "import time\n",
    "import datetime\n",
    "# from IPython.display import clear_output\n",
    "pd.set_option('display.precision', 4,\n",
    "              'display.colheader_justify', 'center')\n",
    "\n",
    "def get_key():\n",
    "    f = open('documents/demo_key.json', 'r')\n",
    "    key_dict = json.load(f)\n",
    "    key = key_dict['coingecko_api_key']\n",
    "    f.close()\n",
    "    return key\n",
    "\n",
    "def get_response(target,headers,params,URL):\n",
    "    url = \"\".join((URL,target))\n",
    "    response = rq.get(url, headers=headers, params=params)\n",
    "\n",
    "    if response.status_code == 200:\n",
    "        data = response.json()\n",
    "        return data\n",
    "    else:\n",
    "        print(f\"Failed to get data with return code {response.status_code}\")\n",
    "\n",
    "\n",
    "use_key = {\n",
    "           \"accept\": \"application/json\",\n",
    "           \"api-key\" : get_key() \n",
    "}\n",
    "\n",
    "exchange_params = {\n",
    "            \"per_page\": 250,\n",
    "            \"page\": 1\n",
    "}\n",
    "\n",
    "response = get_response(\"/exchanges\",use_key,exchange_params,\"https://api.coingecko.com/api/v3\")\n",
    "df_ex = pd.DataFrame(response)\n",
    "df_subset = df_ex[[\"id\",\"name\",\"country\", \"trade_volume_24h_btc\"]]\n",
    "df_ex_subset = df_subset.sort_values(by=[\"trade_volume_24h_btc\"],ascending=False) \n",
    "# df_ex_subset = df_ex_subset[(df_ex_subset[\"trade_volume_24h_btc\"] >= 10000)]\n",
    "df_ex_subset = df_ex_subset[(df_ex_subset[\"country\"] == \"United States\")]\n",
    "print(df_ex_subset)"
   ]
  },
  {
   "cell_type": "code",
   "execution_count": null,
   "id": "e6dc39f4-0176-400f-86be-7a569a6654a8",
   "metadata": {},
   "outputs": [],
   "source": []
  }
 ],
 "metadata": {
  "kernelspec": {
   "display_name": "Python 3 (ipykernel)",
   "language": "python",
   "name": "python3"
  },
  "language_info": {
   "codemirror_mode": {
    "name": "ipython",
    "version": 3
   },
   "file_extension": ".py",
   "mimetype": "text/x-python",
   "name": "python",
   "nbconvert_exporter": "python",
   "pygments_lexer": "ipython3",
   "version": "3.11.0"
  }
 },
 "nbformat": 4,
 "nbformat_minor": 5
}
